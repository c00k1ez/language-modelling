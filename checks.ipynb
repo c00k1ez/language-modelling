{
 "cells": [
  {
   "cell_type": "code",
   "execution_count": 1,
   "metadata": {},
   "outputs": [],
   "source": [
    "import torch\n",
    "\n",
    "from framework.wikitext_parser import WikiTextParser"
   ]
  },
  {
   "cell_type": "code",
   "execution_count": 2,
   "metadata": {},
   "outputs": [
    {
     "output_type": "stream",
     "name": "stdout",
     "text": "preprocess of train file was ended\npreprocess of test file was ended\npreprocess of valid file was ended\n---------------------------------\ntrain set: 86482 sentencies\ntest set: 10662 sentencies\nvalid set: 8988 sentencies\ntotal: 106132 sentencies\n---------------------------------\n"
    }
   ],
   "source": [
    "parser = WikiTextParser('./data/wikitext-2')"
   ]
  },
  {
   "cell_type": "code",
   "execution_count": 3,
   "metadata": {},
   "outputs": [
    {
     "output_type": "execute_result",
     "data": {
      "text/plain": "[' = valkyria chronicles iii = .',\n 'senjō no valkyria 3 : <unk> chronicles ( japanese : 戦場のヴァルキュリア3 , lit .',\n 'valkyria of the battlefield 3 ) , commonly referred to as valkyria chronicles iii outside japan , is a tactical role @-@ playing video game developed by sega and media.vision for the playstation portable .',\n 'released in january 2011 in japan , it is the third game in the valkyria series .',\n '<unk> the same fusion of tactical and real @-@ time gameplay as its predecessors , the story runs parallel to the first game and follows the \" nameless \" , a penal military unit serving the nation of gallia during the second europan war who perform secret black operations and are pitted against the imperial unit \" <unk> raven \" .',\n 'the game began development in 2010 , carrying over a large portion of the work done on valkyria chronicles ii .',\n 'while it retained the standard features of the series , it also underwent multiple adjustments , such as making the game more <unk> for series newcomers .',\n 'character designer <unk> honjou and composer hitoshi sakimoto both returned from previous entries , along with valkyria chronicles ii director takeshi ozawa .',\n 'a large team of writers handled the script .',\n \"the game 's opening theme was sung by may 'n .\",\n 'it met with positive sales in japan , and was praised by both japanese and western critics .',\n 'after release , it received downloadable content , along with an expanded edition in november of that year .',\n 'it was also adapted into manga and an original video animation series .',\n \"due to low sales of valkyria chronicles ii , valkyria chronicles iii was not localized , but a fan translation compatible with the game 's expanded edition was released in 2014 .\",\n 'media.vision would return to the franchise with the development of valkyria : azure revolution for the playstation 4 .',\n '= = gameplay = = .',\n 'as with previous <unk> chronicles games , valkyria chronicles iii is a tactical role @-@ playing game where players take control of a military unit and take part in missions against enemy forces .',\n 'stories are told through comic book @-@ like panels with animated character portraits , with characters speaking partially through voiced speech bubbles and partially through <unk> text .',\n 'the player progresses through a series of linear missions , gradually unlocked as maps that can be freely <unk> through and replayed as they are unlocked .',\n \"the route to each story location on the map varies depending on an individual player 's approach : when one option is selected , the other is sealed off to the player .\",\n 'outside missions , the player characters rest in a camp , where units can be customized and character growth occurs .',\n 'alongside the main story missions are character @-@ specific sub missions relating to different squad members .',\n \"after the game 's completion , additional episodes are unlocked , some of them having a higher difficulty than those found in the rest of the game .\",\n \"there are also love simulation elements related to the game 's two main <unk> , although they take a very minor role .\",\n \"the game 's battle system , the <unk> system , is carried over directly from <unk> chronicles .\",\n 'during missions , players select each unit using a top @-@ down perspective of the battlefield map : once a character is selected , the player moves the character around the battlefield in third @-@ person .',\n \"a character can only act once per @-@ turn , but characters can be granted multiple turns at the expense of other characters ' turns .\",\n 'each character has a field and distance of movement limited by their action <unk> .',\n 'up to nine characters can be assigned to a single mission .',\n 'during gameplay , characters will call out if something happens to them , such as their health points ( hp ) getting low or being knocked out by enemy attacks .']"
     },
     "metadata": {},
     "execution_count": 3
    }
   ],
   "source": [
    "parser.raw_sentencies['train'][:30]"
   ]
  },
  {
   "cell_type": "code",
   "execution_count": null,
   "metadata": {},
   "outputs": [],
   "source": []
  }
 ],
 "metadata": {
  "language_info": {
   "codemirror_mode": {
    "name": "ipython",
    "version": 3
   },
   "file_extension": ".py",
   "mimetype": "text/x-python",
   "name": "python",
   "nbconvert_exporter": "python",
   "pygments_lexer": "ipython3",
   "version": "3.7.6-final"
  },
  "orig_nbformat": 2,
  "kernelspec": {
   "name": "python37664bitpytorchenvcondadd1df8879e6648999b744b4f723a1baa",
   "display_name": "Python 3.7.6 64-bit ('pytorch_env': conda)"
  }
 },
 "nbformat": 4,
 "nbformat_minor": 2
}